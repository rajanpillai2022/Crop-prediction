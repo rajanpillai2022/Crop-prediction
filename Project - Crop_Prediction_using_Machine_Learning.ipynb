{
  "cells": [
    {
      "cell_type": "markdown",
      "metadata": {
        "id": "view-in-github",
        "colab_type": "text"
      },
      "source": [
        "<a href=\"https://colab.research.google.com/github/rajanpillai2022/Crop-prediction/blob/main/Project%20-%20Crop_Prediction_using_Machine_Learning.ipynb\" target=\"_parent\"><img src=\"https://colab.research.google.com/assets/colab-badge.svg\" alt=\"Open In Colab\"/></a>"
      ]
    },
    {
      "cell_type": "code",
      "source": [],
      "metadata": {
        "id": "eXqLczD3MuFX"
      },
      "id": "eXqLczD3MuFX",
      "execution_count": null,
      "outputs": []
    },
    {
      "cell_type": "markdown",
      "id": "9584eb85",
      "metadata": {
        "id": "9584eb85"
      },
      "source": [
        "# Problem Statemetent"
      ]
    },
    {
      "cell_type": "markdown",
      "id": "fa5c3ce8",
      "metadata": {
        "id": "fa5c3ce8"
      },
      "source": [
        "In this project, we have created a model to identify best Crop as accurately as possible. It is important to understand and identify major factors affecting to Crop forming. Considering these factors as attributes and giving values to machine to predict right crops as listed in dataset. Here, we are applying different Machine Learning algorithms to make no. of different models and select best and accurate model for Crop prediction."
      ]
    },
    {
      "cell_type": "markdown",
      "id": "6991a4e3",
      "metadata": {
        "id": "6991a4e3"
      },
      "source": [
        "# Importing Libraries."
      ]
    },
    {
      "cell_type": "code",
      "execution_count": null,
      "id": "43b86213",
      "metadata": {
        "id": "43b86213"
      },
      "outputs": [],
      "source": [
        "# Importing libraries \n",
        "\n",
        "import pandas as pd\n",
        "import numpy as np\n",
        "import matplotlib.pyplot as plt\n",
        "import seaborn as sns\n",
        "from sklearn.metrics import classification_report\n",
        "from sklearn import metrics\n",
        "from sklearn import tree\n",
        "from sklearn.svm import SVC\n",
        "import warnings\n",
        "warnings.filterwarnings('ignore')"
      ]
    },
    {
      "cell_type": "code",
      "source": [],
      "metadata": {
        "id": "owajvrAEJVgB"
      },
      "id": "owajvrAEJVgB",
      "execution_count": null,
      "outputs": []
    },
    {
      "cell_type": "markdown",
      "id": "3430e26e",
      "metadata": {
        "id": "3430e26e"
      },
      "source": [
        "# Loading Dataset.\n"
      ]
    },
    {
      "cell_type": "code",
      "execution_count": null,
      "id": "e0b26843",
      "metadata": {
        "id": "e0b26843"
      },
      "outputs": [],
      "source": [
        "#rowdata= pd.read_csv('C:/Users/Admin/Documents/Machine Learning-2/my_DBDA_Project/Farming_data_set.csv')\n",
        "rowdata= pd.read_csv('Farming_data_set.csv')"
      ]
    },
    {
      "cell_type": "markdown",
      "id": "b47af81d",
      "metadata": {
        "id": "b47af81d"
      },
      "source": [
        "# Preporcessing on Dataset."
      ]
    },
    {
      "cell_type": "markdown",
      "id": "d644bbab",
      "metadata": {
        "id": "d644bbab"
      },
      "source": [
        "1. Printing first 10 rows."
      ]
    },
    {
      "cell_type": "code",
      "execution_count": null,
      "id": "f0c3821f",
      "metadata": {
        "scrolled": true,
        "id": "f0c3821f"
      },
      "outputs": [],
      "source": [
        "rowdata.head(10)"
      ]
    },
    {
      "cell_type": "markdown",
      "id": "045649f3",
      "metadata": {
        "id": "045649f3"
      },
      "source": [
        "2. Printing last 10 rows."
      ]
    },
    {
      "cell_type": "code",
      "execution_count": null,
      "id": "5c1969ea",
      "metadata": {
        "id": "5c1969ea"
      },
      "outputs": [],
      "source": [
        "rowdata.tail(10)"
      ]
    },
    {
      "cell_type": "markdown",
      "id": "2f4f2eba",
      "metadata": {
        "id": "2f4f2eba"
      },
      "source": [
        "3. Shape of dataset."
      ]
    },
    {
      "cell_type": "code",
      "execution_count": null,
      "id": "fb4b3101",
      "metadata": {
        "id": "fb4b3101"
      },
      "outputs": [],
      "source": [
        "rowdata.shape"
      ]
    },
    {
      "cell_type": "markdown",
      "id": "86d34842",
      "metadata": {
        "id": "86d34842"
      },
      "source": [
        "4. Data types of all attributes."
      ]
    },
    {
      "cell_type": "code",
      "execution_count": null,
      "id": "054abaed",
      "metadata": {
        "id": "054abaed"
      },
      "outputs": [],
      "source": [
        "rowdata.dtypes"
      ]
    },
    {
      "cell_type": "code",
      "execution_count": null,
      "id": "662b586b",
      "metadata": {
        "id": "662b586b"
      },
      "outputs": [],
      "source": [
        "type(rowdata)"
      ]
    },
    {
      "cell_type": "markdown",
      "id": "2d5b0204",
      "metadata": {
        "id": "2d5b0204"
      },
      "source": [
        "5. Statistical values from dataset."
      ]
    },
    {
      "cell_type": "code",
      "execution_count": null,
      "id": "08c5c7f2",
      "metadata": {
        "scrolled": true,
        "id": "08c5c7f2"
      },
      "outputs": [],
      "source": [
        "rowdata.describe()"
      ]
    },
    {
      "cell_type": "markdown",
      "id": "9600a30b",
      "metadata": {
        "id": "9600a30b"
      },
      "source": [
        "6. Names of all columns."
      ]
    },
    {
      "cell_type": "code",
      "execution_count": null,
      "id": "253e8522",
      "metadata": {
        "id": "253e8522"
      },
      "outputs": [],
      "source": [
        "rowdata.columns"
      ]
    },
    {
      "cell_type": "markdown",
      "id": "277f2ae4",
      "metadata": {
        "id": "277f2ae4"
      },
      "source": [
        "7. Types of Crops available in dataset."
      ]
    },
    {
      "cell_type": "code",
      "execution_count": null,
      "id": "f9f40209",
      "metadata": {
        "id": "f9f40209"
      },
      "outputs": [],
      "source": [
        "rowdata['Crops'].unique()"
      ]
    },
    {
      "cell_type": "markdown",
      "id": "147d97c1",
      "metadata": {
        "id": "147d97c1"
      },
      "source": [
        "8. No. of crops."
      ]
    },
    {
      "cell_type": "code",
      "execution_count": null,
      "id": "9475d0c4",
      "metadata": {
        "id": "9475d0c4"
      },
      "outputs": [],
      "source": [
        "rowdata['Crops'].nunique()"
      ]
    },
    {
      "cell_type": "markdown",
      "id": "bba5bf8e",
      "metadata": {
        "id": "bba5bf8e"
      },
      "source": [
        "9. Count of each Crops."
      ]
    },
    {
      "cell_type": "code",
      "execution_count": null,
      "id": "264badd7",
      "metadata": {
        "scrolled": true,
        "id": "264badd7"
      },
      "outputs": [],
      "source": [
        "rowdata['Crops'].value_counts()"
      ]
    },
    {
      "cell_type": "markdown",
      "id": "ac8eb65b",
      "metadata": {
        "id": "ac8eb65b"
      },
      "source": [
        "10. Count of Non-null rows."
      ]
    },
    {
      "cell_type": "code",
      "execution_count": null,
      "id": "64584c55",
      "metadata": {
        "id": "64584c55"
      },
      "outputs": [],
      "source": [
        "rowdata.isnull().count()"
      ]
    },
    {
      "cell_type": "markdown",
      "id": "3f96567a",
      "metadata": {
        "id": "3f96567a"
      },
      "source": [
        "# Exploratory Data Analysis\n",
        "![image.png](attachment:image.png)"
      ]
    },
    {
      "cell_type": "markdown",
      "id": "91d87822",
      "metadata": {
        "id": "91d87822"
      },
      "source": [
        "1. Finding correlation between all attributes."
      ]
    },
    {
      "cell_type": "code",
      "execution_count": null,
      "id": "6d582726",
      "metadata": {
        "id": "6d582726"
      },
      "outputs": [],
      "source": [
        "correlation=rowdata.corr()\n",
        "correlation"
      ]
    },
    {
      "cell_type": "markdown",
      "id": "0f21d3fb",
      "metadata": {
        "id": "0f21d3fb"
      },
      "source": [
        "2. Correlation using heatmap."
      ]
    },
    {
      "cell_type": "code",
      "execution_count": null,
      "id": "4eb83212",
      "metadata": {
        "id": "4eb83212"
      },
      "outputs": [],
      "source": [
        "sns.heatmap(correlation,annot=True,xticklabels=True)"
      ]
    },
    {
      "cell_type": "markdown",
      "id": "e71e3270",
      "metadata": {
        "id": "e71e3270"
      },
      "source": [
        "3. Count of Crops using pie chart."
      ]
    },
    {
      "cell_type": "code",
      "execution_count": null,
      "id": "7202829a",
      "metadata": {
        "id": "7202829a"
      },
      "outputs": [],
      "source": [
        "fig,ax=plt.subplots(figsize=(10,50))\n",
        "rowdata['Crops'].value_counts().plot.pie (autopct='%1.1f%%', ax = ax, shadow=True, labeldistance=None)\n",
        "ax.legend(rowdata['Crops'].unique())\n",
        "plt.show()"
      ]
    },
    {
      "cell_type": "code",
      "execution_count": null,
      "id": "f2b5be41",
      "metadata": {
        "id": "f2b5be41"
      },
      "outputs": [],
      "source": [
        "# Box Plot for all features-Phosporus w.r.t. Crops.\n",
        "plt.figure(figsize=(10,8))\n",
        "sns.boxplot(y=rowdata['Crops'],x=rowdata['Phosporus'])\n",
        "plt.show()"
      ]
    },
    {
      "cell_type": "code",
      "execution_count": null,
      "id": "c69868bd",
      "metadata": {
        "id": "c69868bd"
      },
      "outputs": [],
      "source": [
        "# Exploratory Data Analysis.\n",
        "\n",
        "plt.figure(figsize=(10,8))\n",
        "sns.boxplot(y=rowdata['Crops'],x=rowdata['Nitrogen'])\n",
        "plt.show()"
      ]
    },
    {
      "cell_type": "code",
      "execution_count": null,
      "id": "7ed4f154",
      "metadata": {
        "id": "7ed4f154"
      },
      "outputs": [],
      "source": [
        "# Exploratory Data Analysis.\n",
        "\n",
        "plt.figure(figsize=(10,8))\n",
        "sns.boxplot(y=rowdata['Crops'],x=rowdata['Potassium'])\n",
        "plt.show()"
      ]
    },
    {
      "cell_type": "code",
      "execution_count": null,
      "id": "80e99a9f",
      "metadata": {
        "id": "80e99a9f"
      },
      "outputs": [],
      "source": [
        "# Exploratory Data Analysis.\n",
        "()\n",
        "plt.figure(figsize=(10,8))\n",
        "sns.boxplot(y=rowdata['Crops'],x=rowdata['temperature'])\n",
        "plt.show"
      ]
    },
    {
      "cell_type": "code",
      "execution_count": null,
      "id": "1d37d0c9",
      "metadata": {
        "id": "1d37d0c9"
      },
      "outputs": [],
      "source": [
        "# Exploratory Data Analysis.\n",
        "()\n",
        "plt.figure(figsize=(10,8))\n",
        "sns.boxplot(y=rowdata['Crops'],x=rowdata['ph'])\n",
        "plt.show"
      ]
    },
    {
      "cell_type": "code",
      "execution_count": null,
      "id": "3339ae8b",
      "metadata": {
        "scrolled": false,
        "id": "3339ae8b"
      },
      "outputs": [],
      "source": [
        "plt.figure(figsize=(20,10))\n",
        "sns.barplot(y=\"Nitrogen\" , x=\"Crops\" , data=rowdata, palette='hls')\n",
        "plt.xticks(rotation=90)\n",
        "plt.show()"
      ]
    },
    {
      "cell_type": "code",
      "execution_count": null,
      "id": "00ae7581",
      "metadata": {
        "id": "00ae7581"
      },
      "outputs": [],
      "source": [
        "plt.figure(figsize = (12, 10))\n",
        "sns.barplot(data = rowdata , y = \"Crops\" , x =\"temperature\")"
      ]
    },
    {
      "cell_type": "markdown",
      "id": "31fae9c9",
      "metadata": {
        "id": "31fae9c9"
      },
      "source": [
        "# Separating Features and target label."
      ]
    },
    {
      "cell_type": "code",
      "execution_count": null,
      "id": "4c3ae5a4",
      "metadata": {
        "id": "4c3ae5a4"
      },
      "outputs": [],
      "source": [
        "# Dictionary of Column name with associated index.\n",
        "idx_dic = {}\n",
        "for col in rowdata.columns:\n",
        "    idx_dic[col] = rowdata.columns.get_loc(col)\n",
        "print(idx_dic)"
      ]
    },
    {
      "cell_type": "code",
      "execution_count": null,
      "id": "6dc1ad22",
      "metadata": {
        "id": "6dc1ad22"
      },
      "outputs": [],
      "source": [
        "features= rowdata.drop(rowdata.columns[[6,7]],axis=1)\n",
        "features"
      ]
    },
    {
      "cell_type": "code",
      "execution_count": null,
      "id": "1c92cda1",
      "metadata": {
        "id": "1c92cda1"
      },
      "outputs": [],
      "source": [
        "target=rowdata['Crops']\n",
        "target"
      ]
    },
    {
      "cell_type": "code",
      "execution_count": null,
      "id": "5ea71f61",
      "metadata": {
        "id": "5ea71f61"
      },
      "outputs": [],
      "source": [
        "# Splitting into train and test data.\n",
        "\n",
        "from sklearn.model_selection import train_test_split\n",
        "Xtrain, Xtest, Ytrain, Ytest = train_test_split(features,target,test_size = 0.2,random_state =2)"
      ]
    },
    {
      "cell_type": "code",
      "execution_count": null,
      "id": "4274b1cd",
      "metadata": {
        "id": "4274b1cd"
      },
      "outputs": [],
      "source": [
        "print('Xtrain :',Xtrain.shape, '\\nXtest :',Xtest.shape,'\\nYtrain :',Ytrain.shape, '\\nYtest :',Ytest.shape)"
      ]
    },
    {
      "cell_type": "code",
      "execution_count": null,
      "id": "918e1726",
      "metadata": {
        "id": "918e1726"
      },
      "outputs": [],
      "source": [
        "# Initialzing empty lists to append all model's name and corresponding accuracy.\n",
        "ModelTypes = [] # Algorithms used for model.\n",
        "ModelAccuracy = []\n"
      ]
    },
    {
      "cell_type": "markdown",
      "id": "260cc19a",
      "metadata": {
        "id": "260cc19a"
      },
      "source": [
        "# Model Testing with data set."
      ]
    },
    {
      "cell_type": "markdown",
      "id": "70f55172",
      "metadata": {
        "id": "70f55172"
      },
      "source": [
        "# 1. Gaussian Naive Bayes"
      ]
    },
    {
      "cell_type": "code",
      "execution_count": null,
      "id": "5eeb5b92",
      "metadata": {
        "id": "5eeb5b92"
      },
      "outputs": [],
      "source": [
        "from sklearn.naive_bayes import GaussianNB\n",
        "\n",
        "NaiveBayes_1= GaussianNB()\n",
        "\n",
        "NaiveBayes_1"
      ]
    },
    {
      "cell_type": "markdown",
      "id": "07593d0e",
      "metadata": {
        "id": "07593d0e"
      },
      "source": [
        "# Train Model"
      ]
    },
    {
      "cell_type": "code",
      "execution_count": null,
      "id": "70c52b31",
      "metadata": {
        "id": "70c52b31"
      },
      "outputs": [],
      "source": [
        "NaiveBayes_1.fit(Xtrain,Ytrain)"
      ]
    },
    {
      "cell_type": "code",
      "execution_count": null,
      "id": "6db9ad75",
      "metadata": {
        "id": "6db9ad75"
      },
      "outputs": [],
      "source": [
        "predicted_values_1= NaiveBayes_1.predict(Xtest)\n",
        "predicted_values_1[:20]"
      ]
    },
    {
      "cell_type": "code",
      "execution_count": null,
      "id": "e3baa722",
      "metadata": {
        "id": "e3baa722"
      },
      "outputs": [],
      "source": [
        "x=metrics.accuracy_score(Ytest,predicted_values_1)\n",
        "print('GNB Accuracy =' ,x*100,'%')"
      ]
    },
    {
      "cell_type": "code",
      "execution_count": null,
      "id": "4460ea31",
      "metadata": {
        "id": "4460ea31"
      },
      "outputs": [],
      "source": [
        "inputs= np.array([[90,42,43,20.87,82.002,6.50]])\n",
        "prediction_GNB= NaiveBayes_1.predict(inputs)\n",
        "print(prediction_GNB)\n",
        "\n",
        "\n",
        "# Nitrogen, Phosporus, Potassium, temperature,humidity,ph,rainfall ,Crops\n",
        "# 90, 42, 43, 20.87974371,82.00274423,6.502985292,202.9355362,rice"
      ]
    },
    {
      "cell_type": "code",
      "execution_count": null,
      "id": "4fece900",
      "metadata": {
        "id": "4fece900"
      },
      "outputs": [],
      "source": [
        "inputs= np.array([[100,48,16,25.77,67.22,5.54]])\n",
        "prediction_GNB= NaiveBayes_1.predict(inputs)\n",
        "print(prediction_GNB)\n",
        "\n",
        "# 100,48,16,25.71895816,67.22190688,5.54990242,74.51490791,maize\n"
      ]
    },
    {
      "cell_type": "code",
      "execution_count": null,
      "id": "8a374c4b",
      "metadata": {
        "id": "8a374c4b"
      },
      "outputs": [],
      "source": [
        "ModelTypes.append('1. Naive Bayes ')\n",
        "ModelAccuracy.append(x*100)"
      ]
    },
    {
      "cell_type": "code",
      "execution_count": null,
      "id": "f2e39828",
      "metadata": {
        "id": "f2e39828"
      },
      "outputs": [],
      "source": [
        "print([ModelTypes, ModelAccuracy])"
      ]
    },
    {
      "cell_type": "code",
      "execution_count": null,
      "id": "bb50b79b",
      "metadata": {
        "id": "bb50b79b"
      },
      "outputs": [],
      "source": [
        "# Evalution matrix\n",
        "print(classification_report(Ytest,predicted_values_1))"
      ]
    },
    {
      "cell_type": "markdown",
      "id": "ede1fd02",
      "metadata": {
        "id": "ede1fd02"
      },
      "source": [
        "# 2. KNN Classifiers"
      ]
    },
    {
      "cell_type": "code",
      "execution_count": null,
      "id": "0ff0c109",
      "metadata": {
        "id": "0ff0c109"
      },
      "outputs": [],
      "source": [
        "# without normalization.\n",
        "from sklearn.neighbors import KNeighborsClassifier\n",
        "Knn = KNeighborsClassifier()\n"
      ]
    },
    {
      "cell_type": "code",
      "execution_count": null,
      "id": "f42481b0",
      "metadata": {
        "id": "f42481b0"
      },
      "outputs": [],
      "source": [
        "Knn.fit(Xtrain,Ytrain)"
      ]
    },
    {
      "cell_type": "code",
      "execution_count": null,
      "id": "15cd7135",
      "metadata": {
        "id": "15cd7135"
      },
      "outputs": [],
      "source": [
        "knn_pred =Knn.predict(Xtest)"
      ]
    },
    {
      "cell_type": "code",
      "execution_count": null,
      "id": "465dbcb5",
      "metadata": {
        "id": "465dbcb5"
      },
      "outputs": [],
      "source": [
        "x=metrics.accuracy_score(Ytest,knn_pred)\n",
        "print('2. KNN Accuracy =' ,x*100,'%')"
      ]
    },
    {
      "cell_type": "code",
      "execution_count": null,
      "id": "7db402f5",
      "metadata": {
        "id": "7db402f5"
      },
      "outputs": [],
      "source": [
        "inputs= np.array([[90,42,43,20.87,82.002,6.50]])\n",
        "prediction_knn= Knn.predict(inputs)\n",
        "print(prediction_knn)\n",
        "\n",
        "\n",
        "# Nitrogen, Phosporus, Potassium, temperature,humidity,ph,rainfall ,Crops\n",
        "# 90, 42, 43, 20.87974371,82.00274423,6.502985292,202.9355362,rice"
      ]
    },
    {
      "cell_type": "code",
      "execution_count": null,
      "id": "afc51d62",
      "metadata": {
        "id": "afc51d62"
      },
      "outputs": [],
      "source": [
        "# Data normalization with sklearn :\n",
        "from sklearn.preprocessing import MinMaxScaler\n",
        "\n",
        "#MinMax Scaling/Normalization range lies between 0 to 1 :\n",
        "norm= MinMaxScaler().fit(Xtrain)\n",
        "X_train_norm =norm.transform(Xtrain)\n",
        "X_train_norm"
      ]
    },
    {
      "cell_type": "code",
      "execution_count": null,
      "id": "d81fd1e7",
      "metadata": {
        "id": "d81fd1e7"
      },
      "outputs": [],
      "source": [
        "# KNN with normalization.\n",
        "\n",
        "X_train_norm =norm.transform(Xtrain)\n",
        "X_train_norm\n",
        "X_test_norm = norm.transform(Xtest)\n",
        "\n",
        "knn2 = KNeighborsClassifier(n_neighbors=7)\n",
        "knn2.fit(X_train_norm,Ytrain)\n",
        "predicted_values=knn2.predict(X_test_norm)\n",
        "x2 = metrics.accuracy_score(Ytest, predicted_values)\n",
        "print(\"KNN models Accuracy is:\" ,x2*100)\n"
      ]
    },
    {
      "cell_type": "code",
      "execution_count": null,
      "id": "a7bafecc",
      "metadata": {
        "id": "a7bafecc"
      },
      "outputs": [],
      "source": [
        "ModelTypes.append('2. KNN ')\n",
        "ModelAccuracy.append(x2*100)\n",
        "\n"
      ]
    },
    {
      "cell_type": "code",
      "execution_count": null,
      "id": "873b3d94",
      "metadata": {
        "id": "873b3d94"
      },
      "outputs": [],
      "source": [
        "print(ModelTypes, ModelAccuracy)"
      ]
    },
    {
      "cell_type": "markdown",
      "id": "fc0b914a",
      "metadata": {
        "id": "fc0b914a"
      },
      "source": [
        "# 3. Support Vector Machine(SVM)"
      ]
    },
    {
      "cell_type": "code",
      "execution_count": null,
      "id": "9928a190",
      "metadata": {
        "id": "9928a190"
      },
      "outputs": [],
      "source": [
        "features.columns"
      ]
    },
    {
      "cell_type": "code",
      "execution_count": null,
      "id": "5e2e35bc",
      "metadata": {
        "id": "5e2e35bc"
      },
      "outputs": [],
      "source": [
        "target.unique()"
      ]
    },
    {
      "cell_type": "code",
      "execution_count": null,
      "id": "72ee375e",
      "metadata": {
        "id": "72ee375e"
      },
      "outputs": [],
      "source": [
        "df0=rowdata[:100]\n",
        "df1=rowdata[101:200]\n",
        "df3=rowdata[201:300]\n",
        "df4=rowdata[301:400]"
      ]
    },
    {
      "cell_type": "code",
      "execution_count": null,
      "id": "7fe062c9",
      "metadata": {
        "id": "7fe062c9"
      },
      "outputs": [],
      "source": [
        "import matplotlib.pyplot as plt\n",
        "%matplotlib inline"
      ]
    },
    {
      "cell_type": "code",
      "execution_count": null,
      "id": "f4f9a6fd",
      "metadata": {
        "id": "f4f9a6fd"
      },
      "outputs": [],
      "source": [
        "plt.xlabel('Nitrogen')\n",
        "plt.ylabel('Phosporus')\n",
        "plt.scatter(df0['Nitrogen'],df0['Phosporus'], color='green',marker = '*')\n",
        "plt.scatter(df1['Nitrogen'],df1['Phosporus'], color='Red',marker = '.')"
      ]
    },
    {
      "cell_type": "code",
      "execution_count": null,
      "id": "2b884e2b",
      "metadata": {
        "id": "2b884e2b"
      },
      "outputs": [],
      "source": [
        "plt.xlabel('Nitrogen')\n",
        "plt.ylabel('Phosporus')\n",
        "plt.scatter(df3['Nitrogen'],df3['Phosporus'], color='Black',marker = '*')\n",
        "plt.scatter(df4['Nitrogen'],df4['Phosporus'], color='Red',marker = '.')"
      ]
    },
    {
      "cell_type": "code",
      "execution_count": null,
      "id": "db0ac625",
      "metadata": {
        "id": "db0ac625"
      },
      "outputs": [],
      "source": [
        "from sklearn.svm import SVC"
      ]
    },
    {
      "cell_type": "code",
      "execution_count": null,
      "id": "358321e7",
      "metadata": {
        "id": "358321e7"
      },
      "outputs": [],
      "source": [
        "# Data normalization with sklearn :\n",
        "from sklearn.preprocessing import MinMaxScaler\n",
        "\n",
        "#MinMax Scaling/Normalization range lies between 0 to 1 :\n",
        "norm= MinMaxScaler().fit(Xtrain)\n",
        "X_train_norm =norm.transform(Xtrain)\n",
        "X_train_norm"
      ]
    },
    {
      "cell_type": "code",
      "execution_count": null,
      "id": "732c6ab4",
      "metadata": {
        "id": "732c6ab4"
      },
      "outputs": [],
      "source": [
        "# transform testing dataset:\n",
        "X_test_norm = norm.transform(Xtest)"
      ]
    },
    {
      "cell_type": "code",
      "execution_count": null,
      "id": "d1b90698",
      "metadata": {
        "id": "d1b90698"
      },
      "outputs": [],
      "source": [
        "SVM =SVC(kernel='poly', degree=3, C=1) \n",
        "SVM.fit(X_train_norm,Ytrain)"
      ]
    },
    {
      "cell_type": "code",
      "execution_count": null,
      "id": "c96a43dc",
      "metadata": {
        "id": "c96a43dc"
      },
      "outputs": [],
      "source": [
        "predicted_values=SVM.predict(X_test_norm)\n",
        "x3 = metrics.accuracy_score(Ytest, predicted_values)\n",
        "x3\n",
        "\n",
        "print('Accuracy of SVM is :', x3*100)"
      ]
    },
    {
      "cell_type": "code",
      "execution_count": null,
      "id": "4773da33",
      "metadata": {
        "id": "4773da33"
      },
      "outputs": [],
      "source": [
        "ModelTypes.append('3. SVM')\n",
        "ModelAccuracy.append(x3*100)\n"
      ]
    },
    {
      "cell_type": "code",
      "execution_count": null,
      "id": "1845c1ee",
      "metadata": {
        "scrolled": true,
        "id": "1845c1ee"
      },
      "outputs": [],
      "source": [
        "print(classification_report(Ytest, predicted_values))"
      ]
    },
    {
      "cell_type": "markdown",
      "id": "27240a97",
      "metadata": {
        "id": "27240a97"
      },
      "source": [
        "# 4. Logistic Regression\n"
      ]
    },
    {
      "cell_type": "code",
      "execution_count": null,
      "id": "b97890a4",
      "metadata": {
        "id": "b97890a4"
      },
      "outputs": [],
      "source": [
        "\n",
        "from sklearn.linear_model import LogisticRegression\n",
        "\n",
        "LR = LogisticRegression(max_iter=50)\n",
        "\n",
        "LR.fit(Xtrain,Ytrain)"
      ]
    },
    {
      "cell_type": "code",
      "execution_count": null,
      "id": "14861766",
      "metadata": {
        "id": "14861766"
      },
      "outputs": [],
      "source": [
        "predicted_values_LR = LR.predict(Xtest)\n",
        "LRx= metrics.accuracy_score(Ytest,predicted_values_LR)\n",
        "print('Logistic Regression  ',LRx*100,'%')"
      ]
    },
    {
      "cell_type": "code",
      "execution_count": null,
      "id": "e1516809",
      "metadata": {
        "id": "e1516809"
      },
      "outputs": [],
      "source": [
        "ModelTypes.append('4. Logistic Regression ')\n",
        "ModelAccuracy.append(LRx*100)\n",
        "\n"
      ]
    },
    {
      "cell_type": "markdown",
      "id": "deb88eb9",
      "metadata": {
        "id": "deb88eb9"
      },
      "source": [
        "# 5.Random Forest"
      ]
    },
    {
      "cell_type": "code",
      "execution_count": null,
      "id": "df51d2e3",
      "metadata": {
        "id": "df51d2e3"
      },
      "outputs": [],
      "source": [
        "from sklearn.ensemble import RandomForestClassifier\n",
        "\n",
        "RF = RandomForestClassifier(n_estimators=100, random_state=42)\n",
        "RF.fit(Xtrain,Ytrain)"
      ]
    },
    {
      "cell_type": "code",
      "execution_count": null,
      "id": "cb2a948a",
      "metadata": {
        "id": "cb2a948a"
      },
      "outputs": [],
      "source": [
        "predicted_values_RF =RF.predict(Xtest)\n",
        "RFx =metrics.accuracy_score(Ytest, predicted_values_RF)"
      ]
    },
    {
      "cell_type": "code",
      "execution_count": null,
      "id": "94681bc3",
      "metadata": {
        "id": "94681bc3"
      },
      "outputs": [],
      "source": [
        "print(\"Random Forest Accuracy = \",RFx*100,'%')"
      ]
    },
    {
      "cell_type": "code",
      "execution_count": null,
      "id": "7509557d",
      "metadata": {
        "id": "7509557d"
      },
      "outputs": [],
      "source": [
        "\n",
        "RF = RandomForestClassifier(criterion='gini', random_state=42)\n",
        "RF.fit(Xtrain,Ytrain)\n",
        "\n",
        "predicted_values_RF =RF.predict(Xtest)\n",
        "RFx =metrics.accuracy_score(Ytest, predicted_values_RF)\n",
        "\n",
        "print(\"Random Forest Accuracy = \",RFx*100,'%')"
      ]
    },
    {
      "cell_type": "code",
      "execution_count": null,
      "id": "6d608c69",
      "metadata": {
        "id": "6d608c69"
      },
      "outputs": [],
      "source": [
        "ModelTypes.append('5. Random Forest')\n",
        "ModelAccuracy.append(RFx*100)\n"
      ]
    },
    {
      "cell_type": "code",
      "execution_count": null,
      "id": "d20fc0c7",
      "metadata": {
        "id": "d20fc0c7"
      },
      "outputs": [],
      "source": [
        "print(classification_report(Ytest,predicted_values_RF))"
      ]
    },
    {
      "cell_type": "markdown",
      "id": "26540226",
      "metadata": {
        "id": "26540226"
      },
      "source": [
        "# 6. XG boost"
      ]
    },
    {
      "cell_type": "code",
      "execution_count": null,
      "id": "c5ce9e49",
      "metadata": {
        "id": "c5ce9e49"
      },
      "outputs": [],
      "source": [
        "rowdata.columns"
      ]
    },
    {
      "cell_type": "code",
      "execution_count": null,
      "id": "b7e97791",
      "metadata": {
        "id": "b7e97791"
      },
      "outputs": [],
      "source": [
        "x = rowdata[['Nitrogen', 'Phosporus', 'Potassium', 'temperature', 'humidity']]\n"
      ]
    },
    {
      "cell_type": "code",
      "execution_count": null,
      "id": "3ecd54c4",
      "metadata": {
        "id": "3ecd54c4"
      },
      "outputs": [],
      "source": [
        "df1=rowdata['Crops']\n",
        "df1"
      ]
    },
    {
      "cell_type": "code",
      "execution_count": null,
      "id": "a57b15fa",
      "metadata": {
        "id": "a57b15fa"
      },
      "outputs": [],
      "source": [
        "from sklearn.preprocessing import LabelEncoder\n",
        "Ly= LabelEncoder()\n",
        "y1=Ly.fit_transform(df1)"
      ]
    },
    {
      "cell_type": "code",
      "execution_count": null,
      "id": "fe7f3b6a",
      "metadata": {
        "id": "fe7f3b6a"
      },
      "outputs": [],
      "source": [
        "y1"
      ]
    },
    {
      "cell_type": "code",
      "execution_count": null,
      "id": "a3fe3319",
      "metadata": {
        "id": "a3fe3319"
      },
      "outputs": [],
      "source": [
        "Ly.classes_"
      ]
    },
    {
      "cell_type": "code",
      "execution_count": null,
      "id": "5fa55f70",
      "metadata": {
        "id": "5fa55f70"
      },
      "outputs": [],
      "source": [
        "Ly.inverse_transform([1,2,3])"
      ]
    },
    {
      "cell_type": "code",
      "execution_count": null,
      "id": "50aa01b9",
      "metadata": {
        "id": "50aa01b9"
      },
      "outputs": [],
      "source": [
        "from sklearn.model_selection import train_test_split\n",
        "x_train , x_test , y_train, y_test=train_test_split(x ,y1,test_size=0.3 ,random_state=50)\n"
      ]
    },
    {
      "cell_type": "code",
      "execution_count": null,
      "id": "b6304971",
      "metadata": {
        "id": "b6304971"
      },
      "outputs": [],
      "source": [
        "import xgboost as xgb\n",
        "xgb_model = xgb.XGBClassifier()\n",
        "xgb_model.fit(x_train , y_train)"
      ]
    },
    {
      "cell_type": "code",
      "execution_count": null,
      "id": "a7807072",
      "metadata": {
        "id": "a7807072"
      },
      "outputs": [],
      "source": [
        "predictions = xgb_model.predict(x_test)\n",
        "predictions[0:10]"
      ]
    },
    {
      "cell_type": "code",
      "execution_count": null,
      "id": "2e09a86b",
      "metadata": {
        "id": "2e09a86b"
      },
      "outputs": [],
      "source": [
        "Ly.inverse_transform([9])"
      ]
    },
    {
      "cell_type": "code",
      "execution_count": null,
      "id": "8b062188",
      "metadata": {
        "id": "8b062188"
      },
      "outputs": [],
      "source": [
        "from sklearn.metrics import accuracy_score\n",
        "xb = accuracy_score(y_test , predictions)\n",
        "print(\"XGboost's Accuracy is :\", xb *100)"
      ]
    },
    {
      "cell_type": "code",
      "execution_count": null,
      "id": "cff78e75",
      "metadata": {
        "id": "cff78e75"
      },
      "outputs": [],
      "source": [
        "ModelTypes.append('6.XGBoosting')\n",
        "ModelAccuracy.append(xb*100)\n"
      ]
    },
    {
      "cell_type": "markdown",
      "id": "e311c9ce",
      "metadata": {
        "id": "e311c9ce"
      },
      "source": [
        "# 7. Decision Tree"
      ]
    },
    {
      "cell_type": "code",
      "execution_count": null,
      "id": "91ab068d",
      "metadata": {
        "id": "91ab068d"
      },
      "outputs": [],
      "source": [
        "from sklearn.tree import DecisionTreeClassifier\n",
        "DecisionTree = DecisionTreeClassifier(criterion='entropy', random_state=2,max_depth=10)"
      ]
    },
    {
      "cell_type": "code",
      "execution_count": null,
      "id": "cf12a9e9",
      "metadata": {
        "id": "cf12a9e9"
      },
      "outputs": [],
      "source": [
        "DecisionTree.fit(Xtrain,Ytrain)"
      ]
    },
    {
      "cell_type": "code",
      "execution_count": null,
      "id": "2031b519",
      "metadata": {
        "id": "2031b519"
      },
      "outputs": [],
      "source": [
        "predicted_values = DecisionTree.predict(Xtest)"
      ]
    },
    {
      "cell_type": "code",
      "execution_count": null,
      "id": "6a43094e",
      "metadata": {
        "id": "6a43094e"
      },
      "outputs": [],
      "source": [
        "x1 = (metrics.accuracy_score(Ytest, predicted_values))\n",
        "print(x1)"
      ]
    },
    {
      "cell_type": "code",
      "execution_count": null,
      "id": "925410e9",
      "metadata": {
        "id": "925410e9"
      },
      "outputs": [],
      "source": [
        "print(classification_report(Ytest,predicted_values))"
      ]
    },
    {
      "cell_type": "code",
      "execution_count": null,
      "id": "64b3cbcc",
      "metadata": {
        "id": "64b3cbcc"
      },
      "outputs": [],
      "source": [
        "ModelTypes.append('7.Decision Tree')\n",
        "ModelAccuracy.append(x1*100)\n"
      ]
    },
    {
      "cell_type": "markdown",
      "id": "072ad3aa",
      "metadata": {
        "id": "072ad3aa"
      },
      "source": [
        "# Model Accuracy Comparision."
      ]
    },
    {
      "cell_type": "code",
      "execution_count": null,
      "id": "79ecf073",
      "metadata": {
        "id": "79ecf073"
      },
      "outputs": [],
      "source": [
        "#Accuracy of Each Algorithm:\n",
        "accuracy_model= dict(zip(ModelTypes,ModelAccuracy))\n",
        "for k,v in accuracy_model.items():\n",
        "        print(k,\"=\",v)"
      ]
    },
    {
      "cell_type": "code",
      "execution_count": null,
      "id": "4e7eb51e",
      "metadata": {
        "id": "4e7eb51e"
      },
      "outputs": [],
      "source": [
        "# Accuracy Comparison.\n",
        "\n",
        "plt.figure(figsize=[10,5])\n",
        "plt.title('Accuracy Comparision')\n",
        "plt.xlabel('Accuracy of Algorithms')\n",
        "plt.ylabel('Model Name')\n",
        "sns.barplot(x=ModelAccuracy,y=ModelTypes)"
      ]
    },
    {
      "cell_type": "markdown",
      "id": "01faf7bf",
      "metadata": {
        "id": "01faf7bf"
      },
      "source": [
        "# Final Crop prediction using Random Forest."
      ]
    },
    {
      "cell_type": "code",
      "execution_count": null,
      "id": "bbb06e97",
      "metadata": {
        "id": "bbb06e97"
      },
      "outputs": [],
      "source": [
        "\n",
        "data = np.array([[40,72,77,17.02498456,16.98861173,7.48]])\n",
        "predicted_values_RF =RF.predict(data)\n",
        "print(predicted_values_RF)"
      ]
    },
    {
      "cell_type": "code",
      "execution_count": null,
      "id": "609bbb0f",
      "metadata": {
        "id": "609bbb0f"
      },
      "outputs": [],
      "source": [
        "data = np.array([[25,64,20,33.15,32.45,4.480]])\n",
        "predicted_values_RF =RF.predict(data)\n",
        "print(predicted_values_RF)"
      ]
    },
    {
      "cell_type": "code",
      "execution_count": null,
      "id": "621a2a9a",
      "metadata": {
        "id": "621a2a9a"
      },
      "outputs": [],
      "source": [
        "data = np.array([[4,36,22,27,96,7]])\n",
        "predicted_values_RF =RF.predict(data)\n",
        "print(predicted_values_RF)"
      ]
    },
    {
      "cell_type": "code",
      "execution_count": null,
      "id": "1bca8006",
      "metadata": {
        "id": "1bca8006"
      },
      "outputs": [],
      "source": [
        "data = np.array([[56,79,15,29,63,8]])\n",
        "predicted_values_RF =RF.predict(data)\n",
        "print(predicted_values_RF)"
      ]
    },
    {
      "cell_type": "code",
      "execution_count": null,
      "id": "c9df97c0",
      "metadata": {
        "id": "c9df97c0"
      },
      "outputs": [],
      "source": [
        "data = np.array([[32,76,15,28,63,7]])\n",
        "predicted_values_RF =RF.predict(data)\n",
        "print(predicted_values_RF)"
      ]
    },
    {
      "cell_type": "code",
      "execution_count": null,
      "id": "8a6d550f",
      "metadata": {
        "id": "8a6d550f"
      },
      "outputs": [],
      "source": [
        "data = np.array([[6,18,37,19,90,6]])\n",
        "predicted_values_RF =RF.predict(data)\n",
        "print(predicted_values_RF)"
      ]
    },
    {
      "cell_type": "code",
      "execution_count": null,
      "id": "1cec6542",
      "metadata": {
        "id": "1cec6542"
      },
      "outputs": [],
      "source": [
        "data = np.array([[106,85,53,27,78,5.91]])\n",
        "predicted_values_RF =RF.predict(data)\n",
        "print(predicted_values_RF)"
      ]
    },
    {
      "cell_type": "code",
      "execution_count": null,
      "id": "e302650e",
      "metadata": {
        "id": "e302650e"
      },
      "outputs": [],
      "source": [
        "data = np.array([[13,72,21,\t24.879744,21.002744,6]])\n",
        "prediction = Knn.predict(data)\n",
        "print(prediction)"
      ]
    },
    {
      "cell_type": "code",
      "execution_count": null,
      "id": "51977723",
      "metadata": {
        "id": "51977723"
      },
      "outputs": [],
      "source": [
        "data = np.array([[15,27, 28, 33.603016, 46.87]])\n",
        "prediction = xgb_model.predict(data)\n",
        "print(prediction)"
      ]
    },
    {
      "cell_type": "code",
      "execution_count": null,
      "id": "c10fd378",
      "metadata": {
        "id": "c10fd378"
      },
      "outputs": [],
      "source": [
        "Ly.inverse_transform([12])"
      ]
    },
    {
      "cell_type": "markdown",
      "id": "952563df",
      "metadata": {
        "id": "952563df"
      },
      "source": [
        "# Score between Train data and Test data by model using Random forest."
      ]
    },
    {
      "cell_type": "code",
      "execution_count": null,
      "id": "b52016f3",
      "metadata": {
        "id": "b52016f3"
      },
      "outputs": [],
      "source": [
        "# RFxt =RF.score(Xtrain,Ytrain)\n",
        "print(\"Random Forest Accuracy On trainning data= \",RFxt*100,'%')\n",
        "RFxt =RF.score(Xtest,Ytest)\n",
        "print(\"Random Forest Accuracy On testing data= \",RFxt*100,'%')"
      ]
    },
    {
      "cell_type": "code",
      "execution_count": null,
      "id": "fa3a1be2",
      "metadata": {
        "id": "fa3a1be2"
      },
      "outputs": [],
      "source": []
    }
  ],
  "metadata": {
    "kernelspec": {
      "display_name": "Python 3 (ipykernel)",
      "language": "python",
      "name": "python3"
    },
    "language_info": {
      "codemirror_mode": {
        "name": "ipython",
        "version": 3
      },
      "file_extension": ".py",
      "mimetype": "text/x-python",
      "name": "python",
      "nbconvert_exporter": "python",
      "pygments_lexer": "ipython3",
      "version": "3.10.10"
    },
    "colab": {
      "provenance": [],
      "include_colab_link": true
    }
  },
  "nbformat": 4,
  "nbformat_minor": 5
}